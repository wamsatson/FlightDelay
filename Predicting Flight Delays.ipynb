{
 "cells": [
  {
   "cell_type": "markdown",
   "metadata": {},
   "source": [
    "# Predicting Flight Delays with Neural Networks\n",
    "\n",
    "by Sam Watson"
   ]
  },
  {
   "cell_type": "markdown",
   "metadata": {},
   "source": [
    "## Objective\n",
    "To create a deep learning regression model that accurately predicts the delay time of aircraft arrivals."
   ]
  },
  {
   "cell_type": "markdown",
   "metadata": {},
   "source": [
    "First, we will explore how the model performs after training and testing on the data  itself. <br>\n",
    "Then, we will compare the results to the model trained on a generator that randomly loads samples from the DataFrame, and again on a generator that augments the data by adding noise."
   ]
  },
  {
   "cell_type": "markdown",
   "metadata": {},
   "source": [
    "## Importing the Data\n",
    "For this analysis, I'm combining two datasets: one for flights, and one for weather information. (**Appendix, fig. 2**)"
   ]
  },
  {
   "cell_type": "markdown",
   "metadata": {},
   "source": [
    "### About the Data"
   ]
  },
  {
   "cell_type": "markdown",
   "metadata": {},
   "source": [
    "The flight data is retrieved from the United States Department of Transportation. The website holds all airline data reported to the U.S Department of Transportation (DOT) from the top 12 U.S air carriers. Each of these air carriers has at least 1% of the total domestic scheduled-service passenger revenue. <br>\n",
    "\n",
    "From DOT's website (link here: https://transtats.bts.gov/ONTIME/), I've exported 12 CSV files containing flight data, one for each month in the year of 2018. There are 41 features, and 7,213,446 samples."
   ]
  },
  {
   "cell_type": "code",
   "execution_count": 51,
   "metadata": {},
   "outputs": [
    {
     "name": "stdout",
     "output_type": "stream",
     "text": [
      "shape of flights data: (7213446, 41) . Columns:\n"
     ]
    }
   ],
   "source": [
    "print('shape of flights data:',df.shape,'. Columns:')"
   ]
  },
  {
   "cell_type": "markdown",
   "metadata": {},
   "source": [
    "The weather dataset came from the National Oceanic and Atmospheric Administration's (NOAA) National Centers for Environmental Information (NCEI). Say that 10 times fast. NCEI holds and provides access to historical weather information, such as oceanic, atmospheric, and geophysical data. \n",
    "\n",
    "From their website (https://www.ncdc.noaa.gov/cdo-web/search?datasetid=GHCND), I exported daily temperature, percipitation, and snowfall (inches) for each weather station in New York City, New York for 2018. "
   ]
  },
  {
   "cell_type": "markdown",
   "metadata": {},
   "source": [
    "## Preprocessing of the Data\n",
    "The flight dataset has over 7 million records, and spans accross 352 different cities. I've filtered the dataset to just flight arrivals in New York city (NYC). There are two airports in NYC: Laguardia, and JFK."
   ]
  },
  {
   "cell_type": "markdown",
   "metadata": {},
   "source": [
    "Conveniently so, there are weather stations at both Laguardia and JFK. The weather data is then filtered by just these two stations, and reduced to only the columns for percipitation (PRCP), snow (SNOW), and average tempurature (TAVG). (**Appendix, fig. 3**)"
   ]
  },
  {
   "cell_type": "code",
   "execution_count": 53,
   "metadata": {},
   "outputs": [
    {
     "name": "stdout",
     "output_type": "stream",
     "text": [
      "      FL_DATE  PRCP  SNOW  TAVG\n",
      "DEST                           \n",
      "JFK       365   365   365   365\n",
      "LGA       365   365   365   365\n"
     ]
    }
   ],
   "source": [
    "print(weather.groupby('DEST').count())"
   ]
  },
  {
   "cell_type": "markdown",
   "metadata": {},
   "source": [
    "Next, I turned the OP_CARRIER (what flight carrier) column into dummy variables, split the date column into the day of the week, the month of the year, and the day of the month. (**Appendix, fig. 4**)"
   ]
  },
  {
   "cell_type": "markdown",
   "metadata": {},
   "source": [
    "Then, I separated the date columns into a day of the week, day of the month, and month of the year columns. (**Appendix, fig. 5**)"
   ]
  },
  {
   "cell_type": "markdown",
   "metadata": {},
   "source": [
    "Finally, before normalizing the data, I combined the weather and flights dataset, changed LGA/JFG to a binary column, and shortened the listing of columns. <br>\n",
    "<br>\n",
    "If a flight is canceled, then the delay and the airtime columns are NaN values. I decided to drop canceled flights from my dataset. At first, I tried filling NaN values with 0. The logic behind this is that if a flight is canceled, there is no delay, because the plane never took off. But in the end, it was simpler having them removed. Below shows the shapes of the data, the feature names, and the shape of the target value (flight arrival delay in minutes) (**Appendix, fig. 6**)"
   ]
  },
  {
   "cell_type": "code",
   "execution_count": 13,
   "metadata": {},
   "outputs": [
    {
     "name": "stdout",
     "output_type": "stream",
     "text": [
      "shape of data (X) (287618, 27)\n",
      "\n",
      "features of the data (X) Index(['day_of_week', 'day_of_month', 'month_of_year', 'PRCP', 'SNOW', 'TAVG',\n",
      "       'DISTANCE', 'DEST_NUM', 'DEP_DELAY', 'AIR_TIME', 'car_9E', 'car_AA',\n",
      "       'car_AS', 'car_B6', 'car_DL', 'car_EV', 'car_F9', 'car_HA', 'car_MQ',\n",
      "       'car_NK', 'car_OH', 'car_OO', 'car_UA', 'car_VX', 'car_WN', 'car_YV',\n",
      "       'car_YX'],\n",
      "      dtype='object')\n",
      "\n",
      "shape of target (y) (287618, 1)\n"
     ]
    }
   ],
   "source": [
    "print('shape of data (X)',X.shape)\n",
    "print('')\n",
    "print('features of the data (X)',X.columns)\n",
    "print('')\n",
    "print('shape of target (y)',y.shape)"
   ]
  },
  {
   "cell_type": "markdown",
   "metadata": {},
   "source": [
    "## Creating a Model\n",
    "\n",
    "First, the data is split into training and testing subsets. (**Appendix, fig. 7**)"
   ]
  },
  {
   "cell_type": "markdown",
   "metadata": {},
   "source": [
    "Next, we create the model, which will be sequential. Because the output is linear, the activation function on the last layer will have to be one neuron, with an activation function='linear.' The appropriate losses and/or metrics to use for regression problems similar to this are either mean average error (mae), or mean squared error (mse). (**Appendix, fig. 8**)\n",
    "\n",
    "See below summary of the model"
   ]
  },
  {
   "cell_type": "code",
   "execution_count": 24,
   "metadata": {},
   "outputs": [
    {
     "name": "stdout",
     "output_type": "stream",
     "text": [
      "_________________________________________________________________\n",
      "Layer (type)                 Output Shape              Param #   \n",
      "=================================================================\n",
      "dense_1 (Dense)              (None, 50)                1400      \n",
      "_________________________________________________________________\n",
      "dense_2 (Dense)              (None, 50)                2550      \n",
      "_________________________________________________________________\n",
      "dense_3 (Dense)              (None, 50)                2550      \n",
      "_________________________________________________________________\n",
      "dense_4 (Dense)              (None, 20)                1020      \n",
      "_________________________________________________________________\n",
      "dense_5 (Dense)              (None, 1)                 21        \n",
      "=================================================================\n",
      "Total params: 7,541\n",
      "Trainable params: 7,541\n",
      "Non-trainable params: 0\n",
      "_________________________________________________________________\n"
     ]
    }
   ],
   "source": [
    "model.summary()"
   ]
  },
  {
   "cell_type": "markdown",
   "metadata": {},
   "source": [
    "### Training the Model\n",
    "\n",
    "Below is the model being trained over 7 epochs with a batch size of 1000 using the model.fit() command. <br>\n",
    "<br>\n",
    "My model performed the best with the above hyper paramenters. Changing the activation function from relu to prerelu or leakyrelu, and adjusting my loss to MSE instead of MAE did not change the model's performance by much. The model did train better, however, after setting my learning rate/decay rate instead of using the default one. Adding layers with a large amount of neurons didn't help, and if anything hurt the performance. <br> \n",
    "The model's structure felt like the right sweet spot between simplicity and effectivity."
   ]
  },
  {
   "cell_type": "code",
   "execution_count": 41,
   "metadata": {},
   "outputs": [
    {
     "data": {
      "image/png": "[encoded data removed]",
      "text/plain": [
       "<Figure size 432x288 with 1 Axes>"
      ]
     },
     "metadata": {},
     "output_type": "display_data"
    }
   ],
   "source": [
    "epoc=['1','2','3','4','5','6','7']\n",
    "h1=history.history['loss']\n",
    "plt.bar(epoc,h1)\n",
    "plt.title('Model Trained Over 7 Epocs')\n",
    "plt.ylabel('MAE')\n",
    "plt.show()"
   ]
  },
  {
   "cell_type": "markdown",
   "metadata": {},
   "source": [
    "With one input layer, one output layer, and three hidden layers, the model performs quite well. The test data's MAE and MSE isn't too far off the training's. The MAE is 8.9, which means on average the predicted delay time is off by 8.9 minutes. <br>\n",
    "Below is the evaluation of the model on the test data, along with a scatter plot showing the actual vs the predicted arrival delay time for the flights. (**Appendix, fig. 9**)"
   ]
  },
  {
   "cell_type": "code",
   "execution_count": 26,
   "metadata": {},
   "outputs": [
    {
     "name": "stdout",
     "output_type": "stream",
     "text": [
      "Evaluation loss on test data (MAE): 8.864149572355062\n"
     ]
    }
   ],
   "source": [
    "print('Evaluation loss on test data (MAE):',first[0])"
   ]
  },
  {
   "cell_type": "code",
   "execution_count": 29,
   "metadata": {},
   "outputs": [
    {
     "data": {
      "image/png": "[encoded data removed]",
      "text/plain": [
       "<Figure size 432x288 with 1 Axes>"
      ]
     },
     "metadata": {},
     "output_type": "display_data"
    }
   ],
   "source": [
    "plt.scatter(y_test,pred)\n",
    "plt.xlabel('Actual')\n",
    "plt.ylabel('Predicted')\n",
    "plt.title('Actual vs Predicted Arrival Delay for Test Data')\n",
    "plt.show()"
   ]
  },
  {
   "cell_type": "markdown",
   "metadata": {},
   "source": [
    "## Training Using Generators\n",
    "\n",
    "Now lets train the model again, but this time with generators!"
   ]
  },
  {
   "cell_type": "markdown",
   "metadata": {},
   "source": [
    "My beautiful generator (who was much harder to create than advertised), and proof that it works. Its generating a sample at a time. (**Appendix, fig. 10**)"
   ]
  },
  {
   "cell_type": "code",
   "execution_count": 25,
   "metadata": {},
   "outputs": [
    {
     "data": {
      "text/plain": [
       "(array([[-0.94084736,  0.1265741 ,  0.11475837,  4.40170568, -0.10344498,\n",
       "          1.46793086,  0.62206598, -0.87663279,  0.94212908,  1.1040362 ,\n",
       "         -0.44565952,  2.5629422 , -0.11905858, -0.44667908, -0.47558993,\n",
       "         -0.14495419, -0.06047342, -0.03559729, -0.26305842, -0.11699927,\n",
       "         -0.08692625, -0.1782384 , -0.17890181, -0.05900805, -0.19807173,\n",
       "         -0.07051324, -0.36614126]]), array([83.]))"
      ]
     },
     "execution_count": 25,
     "metadata": {},
     "output_type": "execute_result"
    }
   ],
   "source": [
    "mygen=gen()\n",
    "next(mygen)"
   ]
  },
  {
   "cell_type": "markdown",
   "metadata": {},
   "source": [
    "I training the model with my generator (**Appendix, fig. 11**). See below epoc summary, as well as the evaluation loss."
   ]
  },
  {
   "cell_type": "code",
   "execution_count": 56,
   "metadata": {},
   "outputs": [
    {
     "data": {
      "image/png": "[encoded data removed]",
      "text/plain": [
       "<Figure size 432x288 with 1 Axes>"
      ]
     },
     "metadata": {},
     "output_type": "display_data"
    }
   ],
   "source": [
    "h2=history2.history['loss']\n",
    "plt.bar(epoc,h2)\n",
    "plt.title('Generator: Model Trained Over 7 Epocs')\n",
    "plt.ylabel('MAE')\n",
    "plt.show()"
   ]
  },
  {
   "cell_type": "code",
   "execution_count": 31,
   "metadata": {},
   "outputs": [
    {
     "name": "stdout",
     "output_type": "stream",
     "text": [
      "Evaluation loss on test data (MAE) for generator: 13.712509193271865\n"
     ]
    }
   ],
   "source": [
    "print('Evaluation loss on test data (MAE) for generator:',second[0])"
   ]
  },
  {
   "cell_type": "markdown",
   "metadata": {},
   "source": [
    "The model performed worse on the test data after training with a generator, but not by much. It also took longer to lower the MAE with the generator. <br>\n",
    "Below I created another generator, but this time, the data is augmented by adding random noise. (**Appendix, fig. 10**)"
   ]
  },
  {
   "cell_type": "markdown",
   "metadata": {},
   "source": [
    "Proof that my new generator works, and augments the data"
   ]
  },
  {
   "cell_type": "code",
   "execution_count": 32,
   "metadata": {},
   "outputs": [
    {
     "data": {
      "text/plain": [
       "(array([[ 1.12748449e+00,  2.50773312e+00,  1.36312823e+00,\n",
       "         -3.40268092e-01,  3.26572766e-02,  9.31925172e+00,\n",
       "          6.58626225e+02, -5.57062929e-01,  3.94830170e+01,\n",
       "          1.13188576e+01, -2.13458228e-01, -3.83484392e-01,\n",
       "         -7.89503097e-02, -1.00052582e-01, -3.31605246e-01,\n",
       "         -5.60196907e-03, -1.92569952e-02, -1.01590458e-02,\n",
       "         -2.33925776e-01, -1.08594122e-01, -1.10762043e-02,\n",
       "         -3.63703097e-02, -2.62760685e-02, -1.29517845e-02,\n",
       "         -1.64590986e-01, -3.86885898e-02,  2.82277338e+00]]), array([-12.]))"
      ]
     },
     "execution_count": 32,
     "metadata": {},
     "output_type": "execute_result"
    }
   ],
   "source": [
    "myaug=aug()\n",
    "next(myaug)"
   ]
  },
  {
   "cell_type": "markdown",
   "metadata": {},
   "source": [
    "The model was trained one last time; this time on the augmented data generator. (**Appendix, fig. 12**). See below epoc summary, as well as the evaluation loss."
   ]
  },
  {
   "cell_type": "code",
   "execution_count": 55,
   "metadata": {},
   "outputs": [
    {
     "data": {
      "image/png": "[encoded data removed]",
      "text/plain": [
       "<Figure size 432x288 with 1 Axes>"
      ]
     },
     "metadata": {},
     "output_type": "display_data"
    }
   ],
   "source": [
    "h3=history3.history['loss']\n",
    "plt.bar(epoc,h3)\n",
    "plt.title('Aug. Generator: Model Trained Over 7 Epocs')\n",
    "plt.ylabel('MAE')\n",
    "plt.show()"
   ]
  },
  {
   "cell_type": "code",
   "execution_count": 34,
   "metadata": {},
   "outputs": [
    {
     "name": "stdout",
     "output_type": "stream",
     "text": [
      "Evaluation loss on test data (MAE) for generator: 27.527805431555098\n"
     ]
    }
   ],
   "source": [
    "print('Evaluation loss on test data (MAE) for generator:',third[0])"
   ]
  },
  {
   "cell_type": "markdown",
   "metadata": {},
   "source": [
    "The model performed significantly worse with the augmented data."
   ]
  },
  {
   "cell_type": "markdown",
   "metadata": {},
   "source": [
    "## Conclusion\n",
    "\n",
    "The objective of this project was to create a neural network that predicts the arrival delay of a flight into NYC. The data is a combination of weather and flights data from the government. A model was created with one input layer, one output layer, and three hidden layers. The model was trained three times; once on the training data itself, once with a data generator, and once with augmented data.\n",
    "\n",
    "The model perfomed the best with just the training data, and performed the worst with augmented data from a generator. In general, the purpose of a generator and data augmentation is to make the model more robust due to limited data. \n",
    "\n",
    "Below is a summary of the performance of the three trained models. Again, the model performed the best when not using a generator.\n",
    "\n",
    "In this project, there is a surplus of flights data. In a \"real world\" simulation of this, we really wouldn't need to augment the data. A practical application of a generator for this type of problem, though, would be to load the data from a saved file, as the datasets can get very large."
   ]
  },
  {
   "cell_type": "code",
   "execution_count": 50,
   "metadata": {},
   "outputs": [
    {
     "data": {
      "image/png": "[encoded data removed]",
      "text/plain": [
       "<Figure size 432x288 with 1 Axes>"
      ]
     },
     "metadata": {},
     "output_type": "display_data"
    }
   ],
   "source": [
    "x1=['no generator','generator','generator with augmentation']\n",
    "h=[first[0],second[0],third[0]]\n",
    "plt.bar(x1,h)\n",
    "plt.title('Model MAE on Test Data')\n",
    "plt.ylabel('MAE')\n",
    "plt.show()"
   ]
  },
  {
   "cell_type": "markdown",
   "metadata": {},
   "source": [
    "## Appendex"
   ]
  },
  {
   "cell_type": "markdown",
   "metadata": {},
   "source": [
    "#### fig. 1\n",
    "Importing librarys"
   ]
  },
  {
   "cell_type": "code",
   "execution_count": 1,
   "metadata": {},
   "outputs": [],
   "source": [
    "import numpy as np\n",
    "import pandas as pd\n",
    "import matplotlib.pyplot as plt\n",
    "#import tensorflow as tf\n",
    "#import keras"
   ]
  },
  {
   "cell_type": "markdown",
   "metadata": {},
   "source": [
    "#### fig. 2\n",
    "Loading the data"
   ]
  },
  {
   "cell_type": "code",
   "execution_count": 2,
   "metadata": {},
   "outputs": [],
   "source": [
    "#loading the data\n",
    "df1= pd.read_csv('2018.01.csv')\n",
    "df2= pd.read_csv('2018.02.csv')\n",
    "df3= pd.read_csv('2018.03.csv')\n",
    "df4= pd.read_csv('2018.04.csv')\n",
    "df5= pd.read_csv('2018.05.csv')\n",
    "df6= pd.read_csv('2018.06.csv')\n",
    "df7= pd.read_csv('2018.07.csv')\n",
    "df8= pd.read_csv('2018.08.csv')\n",
    "df9= pd.read_csv('2018.09.csv')\n",
    "df10= pd.read_csv('2018.10.csv')\n",
    "df11= pd.read_csv('2018.11.csv')\n",
    "df12= pd.read_csv('2018.12.csv')"
   ]
  },
  {
   "cell_type": "code",
   "execution_count": 3,
   "metadata": {},
   "outputs": [],
   "source": [
    "df=pd.concat([df1,df2,df3,df4,df5,df6,df7,df8,df9,df10,df11,df12], ignore_index=True)\n",
    "import warnings\n",
    "warnings.filterwarnings(\"ignore\")\n",
    "weather=pd.read_csv('NYC_weather.csv')"
   ]
  },
  {
   "cell_type": "markdown",
   "metadata": {},
   "source": [
    "#### fig. 3\n",
    "Filtering the flights and weather dataset by just NYC JFK/LGA"
   ]
  },
  {
   "cell_type": "code",
   "execution_count": 4,
   "metadata": {},
   "outputs": [
    {
     "data": {
      "text/plain": [
       "DEST\n",
       "JFK    129684\n",
       "LGA    171082\n",
       "dtype: int64"
      ]
     },
     "execution_count": 4,
     "metadata": {},
     "output_type": "execute_result"
    }
   ],
   "source": [
    "#filtering the flights dataset by just NYC\n",
    "flights=df[df.DEST_CITY_NAME=='New York, NY']\n",
    "flights.groupby('DEST').size()"
   ]
  },
  {
   "cell_type": "code",
   "execution_count": 5,
   "metadata": {},
   "outputs": [],
   "source": [
    "#filtering the weather dataset by jmust JFK and LGA\n",
    "weather=pd.read_csv('NYC_weather.csv')\n",
    "weather=weather[(weather.NAME=='LAGUARDIA AIRPORT, NY US') | (weather.NAME=='JFK INTERNATIONAL AIRPORT, NY US')]\n",
    "weather=weather[['DATE','NAME','PRCP','SNOW','TAVG']]\n",
    "weather.loc[weather['NAME']=='LAGUARDIA AIRPORT, NY US','NAME']='LGA'\n",
    "weather.loc[weather['NAME']=='JFK INTERNATIONAL AIRPORT, NY US','NAME']='JFK'"
   ]
  },
  {
   "cell_type": "markdown",
   "metadata": {},
   "source": [
    "#### fig. 4\n",
    "Changing the carrier column into dummy variables to feed into the network"
   ]
  },
  {
   "cell_type": "code",
   "execution_count": 6,
   "metadata": {},
   "outputs": [
    {
     "data": {
      "text/html": [
       "<div>\n",
       "<style scoped>\n",
       "    .dataframe tbody tr th:only-of-type {\n",
       "        vertical-align: middle;\n",
       "    }\n",
       "\n",
       "    .dataframe tbody tr th {\n",
       "        vertical-align: top;\n",
       "    }\n",
       "\n",
       "    .dataframe thead th {\n",
       "        text-align: right;\n",
       "    }\n",
       "</style>\n",
       "<table border=\"1\" class=\"dataframe\">\n",
       "  <thead>\n",
       "    <tr style=\"text-align: right;\">\n",
       "      <th></th>\n",
       "      <th>car_9E</th>\n",
       "      <th>car_AA</th>\n",
       "      <th>car_AS</th>\n",
       "      <th>car_B6</th>\n",
       "      <th>car_DL</th>\n",
       "      <th>car_EV</th>\n",
       "      <th>car_F9</th>\n",
       "      <th>car_HA</th>\n",
       "      <th>car_MQ</th>\n",
       "      <th>car_NK</th>\n",
       "      <th>car_OH</th>\n",
       "      <th>car_OO</th>\n",
       "      <th>car_UA</th>\n",
       "      <th>car_VX</th>\n",
       "      <th>car_WN</th>\n",
       "      <th>car_YV</th>\n",
       "      <th>car_YX</th>\n",
       "    </tr>\n",
       "  </thead>\n",
       "  <tbody>\n",
       "    <tr>\n",
       "      <th>124</th>\n",
       "      <td>0</td>\n",
       "      <td>0</td>\n",
       "      <td>0</td>\n",
       "      <td>0</td>\n",
       "      <td>0</td>\n",
       "      <td>0</td>\n",
       "      <td>0</td>\n",
       "      <td>0</td>\n",
       "      <td>0</td>\n",
       "      <td>0</td>\n",
       "      <td>0</td>\n",
       "      <td>0</td>\n",
       "      <td>1</td>\n",
       "      <td>0</td>\n",
       "      <td>0</td>\n",
       "      <td>0</td>\n",
       "      <td>0</td>\n",
       "    </tr>\n",
       "    <tr>\n",
       "      <th>283</th>\n",
       "      <td>0</td>\n",
       "      <td>0</td>\n",
       "      <td>0</td>\n",
       "      <td>0</td>\n",
       "      <td>0</td>\n",
       "      <td>0</td>\n",
       "      <td>0</td>\n",
       "      <td>0</td>\n",
       "      <td>0</td>\n",
       "      <td>0</td>\n",
       "      <td>0</td>\n",
       "      <td>0</td>\n",
       "      <td>1</td>\n",
       "      <td>0</td>\n",
       "      <td>0</td>\n",
       "      <td>0</td>\n",
       "      <td>0</td>\n",
       "    </tr>\n",
       "    <tr>\n",
       "      <th>341</th>\n",
       "      <td>0</td>\n",
       "      <td>0</td>\n",
       "      <td>0</td>\n",
       "      <td>0</td>\n",
       "      <td>0</td>\n",
       "      <td>0</td>\n",
       "      <td>0</td>\n",
       "      <td>0</td>\n",
       "      <td>0</td>\n",
       "      <td>0</td>\n",
       "      <td>0</td>\n",
       "      <td>0</td>\n",
       "      <td>1</td>\n",
       "      <td>0</td>\n",
       "      <td>0</td>\n",
       "      <td>0</td>\n",
       "      <td>0</td>\n",
       "    </tr>\n",
       "    <tr>\n",
       "      <th>368</th>\n",
       "      <td>0</td>\n",
       "      <td>0</td>\n",
       "      <td>0</td>\n",
       "      <td>0</td>\n",
       "      <td>0</td>\n",
       "      <td>0</td>\n",
       "      <td>0</td>\n",
       "      <td>0</td>\n",
       "      <td>0</td>\n",
       "      <td>0</td>\n",
       "      <td>0</td>\n",
       "      <td>0</td>\n",
       "      <td>1</td>\n",
       "      <td>0</td>\n",
       "      <td>0</td>\n",
       "      <td>0</td>\n",
       "      <td>0</td>\n",
       "    </tr>\n",
       "    <tr>\n",
       "      <th>499</th>\n",
       "      <td>0</td>\n",
       "      <td>0</td>\n",
       "      <td>0</td>\n",
       "      <td>0</td>\n",
       "      <td>0</td>\n",
       "      <td>0</td>\n",
       "      <td>0</td>\n",
       "      <td>0</td>\n",
       "      <td>0</td>\n",
       "      <td>0</td>\n",
       "      <td>0</td>\n",
       "      <td>0</td>\n",
       "      <td>1</td>\n",
       "      <td>0</td>\n",
       "      <td>0</td>\n",
       "      <td>0</td>\n",
       "      <td>0</td>\n",
       "    </tr>\n",
       "  </tbody>\n",
       "</table>\n",
       "</div>"
      ],
      "text/plain": [
       "     car_9E  car_AA  car_AS  car_B6  car_DL  car_EV  car_F9  car_HA  car_MQ  \\\n",
       "124       0       0       0       0       0       0       0       0       0   \n",
       "283       0       0       0       0       0       0       0       0       0   \n",
       "341       0       0       0       0       0       0       0       0       0   \n",
       "368       0       0       0       0       0       0       0       0       0   \n",
       "499       0       0       0       0       0       0       0       0       0   \n",
       "\n",
       "     car_NK  car_OH  car_OO  car_UA  car_VX  car_WN  car_YV  car_YX  \n",
       "124       0       0       0       1       0       0       0       0  \n",
       "283       0       0       0       1       0       0       0       0  \n",
       "341       0       0       0       1       0       0       0       0  \n",
       "368       0       0       0       1       0       0       0       0  \n",
       "499       0       0       0       1       0       0       0       0  "
      ]
     },
     "execution_count": 6,
     "metadata": {},
     "output_type": "execute_result"
    }
   ],
   "source": [
    "#changing the carrier into dummy variables\n",
    "carrier=flights['OP_CARRIER']\n",
    "carrier=pd.get_dummies(carrier,prefix='car')\n",
    "carrier.head()"
   ]
  },
  {
   "cell_type": "markdown",
   "metadata": {},
   "source": [
    "#### fig. 5\n",
    "Changing the date column into  usable format for the network."
   ]
  },
  {
   "cell_type": "code",
   "execution_count": 8,
   "metadata": {},
   "outputs": [],
   "source": [
    "flights['FL_DATE']=flights['FL_DATE'].apply(pd.to_datetime)\n",
    "flights['day_of_week']=flights['FL_DATE'].dt.dayofweek\n",
    "flights['day_of_month']=flights['FL_DATE'].dt.day\n",
    "flights['month_of_year']=flights['FL_DATE'].dt.month"
   ]
  },
  {
   "cell_type": "markdown",
   "metadata": {},
   "source": [
    "#### fig. 6\n",
    "Preparing the data features and target to be used for the network."
   ]
  },
  {
   "cell_type": "code",
   "execution_count": 9,
   "metadata": {},
   "outputs": [
    {
     "name": "stdout",
     "output_type": "stream",
     "text": [
      "start: (300766, 44)\n",
      "join carrier: (300766, 61)\n",
      "join weather: (300766, 64)\n"
     ]
    }
   ],
   "source": [
    "print('start:',flights.shape)\n",
    "flights2=pd.merge(carrier,flights, left_index=True,right_index=True)\n",
    "print('join carrier:',flights2.shape)\n",
    "col=list(weather.columns)\n",
    "col[0]='FL_DATE'\n",
    "col[1]='DEST'\n",
    "weather.columns=col\n",
    "weather['FL_DATE']=weather['FL_DATE'].apply(pd.to_datetime)\n",
    "data=pd.merge(flights2,weather, on=['FL_DATE','DEST'])\n",
    "print('join weather:',data.shape)"
   ]
  },
  {
   "cell_type": "code",
   "execution_count": 10,
   "metadata": {},
   "outputs": [],
   "source": [
    "#removing canceled flights, getting only necessary columns, and changing Dest to a Binary column\n",
    "data.loc[data['DEST']=='LGA','DEST_NUM']=0\n",
    "data.loc[data['DEST']=='JFK','DEST_NUM']=1\n",
    "data=data[['day_of_week','day_of_month','month_of_year','PRCP', 'SNOW', 'TAVG','DISTANCE','DEST_NUM',\n",
    "           #'CANCELLED',\n",
    "'DEP_DELAY','AIR_TIME',\n",
    "'car_9E','car_AA','car_AS','car_B6','car_DL','car_EV','car_F9','car_HA','car_MQ',\n",
    "'car_NK','car_OH','car_OO','car_UA','car_VX','car_WN','car_YV','car_YX',\n",
    "'ARR_DELAY']]\n",
    "data=data.dropna()\n",
    "#data=data.fillna(0)\n",
    "#export_csv = data.to_csv (r'C:\\Users\\wamsa\\Desktop\\FLIGHTS.csv', index = None, header=True) "
   ]
  },
  {
   "cell_type": "code",
   "execution_count": 11,
   "metadata": {},
   "outputs": [],
   "source": [
    "y=data[['ARR_DELAY']]\n",
    "X=data[['day_of_week','day_of_month','month_of_year','PRCP', 'SNOW', 'TAVG','DISTANCE','DEST_NUM',\n",
    "#'CANCELLED',\n",
    "'DEP_DELAY','AIR_TIME',\n",
    "'car_9E','car_AA','car_AS','car_B6','car_DL','car_EV','car_F9','car_HA','car_MQ',\n",
    "'car_NK','car_OH','car_OO','car_UA','car_VX','car_WN','car_YV','car_YX']]"
   ]
  },
  {
   "cell_type": "code",
   "execution_count": 14,
   "metadata": {},
   "outputs": [
    {
     "name": "stdout",
     "output_type": "stream",
     "text": [
      "shape of data (X) (287618, 27)\n",
      "shape of target (y) (287618,)\n"
     ]
    }
   ],
   "source": [
    "import sklearn\n",
    "from sklearn import preprocessing\n",
    "#X=preprocessing.normalize(data)\n",
    "y=np.ravel(y.values)\n",
    "print('shape of data (X)',X.shape)\n",
    "print('shape of target (y)',y.shape)"
   ]
  },
  {
   "cell_type": "markdown",
   "metadata": {},
   "source": [
    "#### fig. 7\n",
    "Normalizing the data"
   ]
  },
  {
   "cell_type": "code",
   "execution_count": 15,
   "metadata": {},
   "outputs": [],
   "source": [
    "from sklearn.model_selection import train_test_split\n",
    "mean=X.mean(axis=0)\n",
    "X -=mean\n",
    "std= X.std(axis=0)\n",
    "X /= std\n",
    "X_train, X_test, y_train, y_test=train_test_split(X,y, test_size=.2,random_state=42)"
   ]
  },
  {
   "cell_type": "markdown",
   "metadata": {},
   "source": [
    "#### fig. 8\n",
    "Creating the model"
   ]
  },
  {
   "cell_type": "code",
   "execution_count": 16,
   "metadata": {},
   "outputs": [
    {
     "name": "stdout",
     "output_type": "stream",
     "text": [
      "WARNING:tensorflow:From C:\\Users\\wamsa\\Anaconda3\\lib\\site-packages\\keras\\backend\\tensorflow_backend.py:74: The name tf.get_default_graph is deprecated. Please use tf.compat.v1.get_default_graph instead.\n",
      "\n",
      "WARNING:tensorflow:From C:\\Users\\wamsa\\Anaconda3\\lib\\site-packages\\keras\\backend\\tensorflow_backend.py:517: The name tf.placeholder is deprecated. Please use tf.compat.v1.placeholder instead.\n",
      "\n",
      "WARNING:tensorflow:From C:\\Users\\wamsa\\Anaconda3\\lib\\site-packages\\keras\\backend\\tensorflow_backend.py:4138: The name tf.random_uniform is deprecated. Please use tf.random.uniform instead.\n",
      "\n"
     ]
    },
    {
     "name": "stderr",
     "output_type": "stream",
     "text": [
      "Using TensorFlow backend.\n"
     ]
    },
    {
     "name": "stdout",
     "output_type": "stream",
     "text": [
      "WARNING:tensorflow:From C:\\Users\\wamsa\\Anaconda3\\lib\\site-packages\\keras\\optimizers.py:790: The name tf.train.Optimizer is deprecated. Please use tf.compat.v1.train.Optimizer instead.\n",
      "\n",
      "_________________________________________________________________\n",
      "Layer (type)                 Output Shape              Param #   \n",
      "=================================================================\n",
      "dense_1 (Dense)              (None, 50)                1400      \n",
      "_________________________________________________________________\n",
      "dense_2 (Dense)              (None, 50)                2550      \n",
      "_________________________________________________________________\n",
      "dense_3 (Dense)              (None, 50)                2550      \n",
      "_________________________________________________________________\n",
      "dense_4 (Dense)              (None, 20)                1020      \n",
      "_________________________________________________________________\n",
      "dense_5 (Dense)              (None, 1)                 21        \n",
      "=================================================================\n",
      "Total params: 7,541\n",
      "Trainable params: 7,541\n",
      "Non-trainable params: 0\n",
      "_________________________________________________________________\n"
     ]
    }
   ],
   "source": [
    "import tensorflow as tf\n",
    "from tensorflow import keras\n",
    "from keras import models\n",
    "from keras import layers\n",
    "from keras import optimizers\n",
    "\n",
    "model=models.Sequential()\n",
    "\n",
    "model.add(layers.Dense(50,\n",
    "                       activation='relu',\n",
    "                       input_shape=(27,)))\n",
    "model.add(layers.Dense(50,activation='relu'))\n",
    "model.add(layers.Dense(50,activation='relu'))\n",
    "model.add(layers.Dense(20,activation='relu'))\n",
    "model.add(layers.Dense(1,activation='linear'))\n",
    "\n",
    "model.compile(optimizer=optimizers.Adam(lr=.01,decay=1e-6),\n",
    "             loss='mae',\n",
    "             metrics=['mse','mae'])\n",
    "\n",
    "model.summary()"
   ]
  },
  {
   "cell_type": "markdown",
   "metadata": {},
   "source": [
    "#### fig. 9\n",
    "Training the model (no generator)"
   ]
  },
  {
   "cell_type": "code",
   "execution_count": 28,
   "metadata": {},
   "outputs": [
    {
     "name": "stdout",
     "output_type": "stream",
     "text": [
      "Epoch 1/7\n",
      "230094/230094 [==============================] - 1s 4us/step - loss: 11.8522 - mean_squared_error: 558.2309 - mean_absolute_error: 11.8522\n",
      "Epoch 2/7\n",
      "230094/230094 [==============================] - 1s 4us/step - loss: 9.2396 - mean_squared_error: 187.0399 - mean_absolute_error: 9.2396\n",
      "Epoch 3/7\n",
      "230094/230094 [==============================] - 1s 3us/step - loss: 9.0493 - mean_squared_error: 181.5868 - mean_absolute_error: 9.0493\n",
      "Epoch 4/7\n",
      "230094/230094 [==============================] - 1s 3us/step - loss: 8.9833 - mean_squared_error: 179.5691 - mean_absolute_error: 8.9833\n",
      "Epoch 5/7\n",
      "230094/230094 [==============================] - 1s 3us/step - loss: 8.9402 - mean_squared_error: 177.8991 - mean_absolute_error: 8.9402\n",
      "Epoch 6/7\n",
      "230094/230094 [==============================] - 1s 3us/step - loss: 8.9050 - mean_squared_error: 177.0981 - mean_absolute_error: 8.9050\n",
      "Epoch 7/7\n",
      "230094/230094 [==============================] - 1s 3us/step - loss: 8.8753 - mean_squared_error: 176.1394 - mean_absolute_error: 8.8753\n",
      "57524/57524 [==============================] - 1s 14us/step\n"
     ]
    }
   ],
   "source": [
    "history=model.fit(X_train, y_train, epochs=7,batch_size=1000)\n",
    "first=model.evaluate(X_test,y_test)\n",
    "pred=model.predict(X_test)\n",
    "pred=np.ravel(pred)"
   ]
  },
  {
   "cell_type": "markdown",
   "metadata": {},
   "source": [
    "#### fig. 10\n",
    "My python generators"
   ]
  },
  {
   "cell_type": "code",
   "execution_count": 18,
   "metadata": {},
   "outputs": [],
   "source": [
    "working=data[['day_of_week','day_of_month','month_of_year','PRCP', 'SNOW', 'TAVG','DISTANCE','DEST_NUM',\n",
    "        'DEP_DELAY','AIR_TIME',\n",
    "        'car_9E','car_AA','car_AS','car_B6','car_DL','car_EV','car_F9','car_HA','car_MQ',\n",
    "        'car_NK','car_OH','car_OO','car_UA','car_VX','car_WN','car_YV','car_YX']]\n",
    "mean=working.mean(axis=0)\n",
    "std= working.std(axis=0)"
   ]
  },
  {
   "cell_type": "code",
   "execution_count": 19,
   "metadata": {},
   "outputs": [],
   "source": [
    "def gen():   \n",
    "    while True:\n",
    "        s=data.sample()\n",
    "        sy=s[['ARR_DELAY']]\n",
    "        s=s[['day_of_week','day_of_month','month_of_year','PRCP', 'SNOW', 'TAVG','DISTANCE','DEST_NUM',\n",
    "        'DEP_DELAY','AIR_TIME',\n",
    "        'car_9E','car_AA','car_AS','car_B6','car_DL','car_EV','car_F9','car_HA','car_MQ',\n",
    "        'car_NK','car_OH','car_OO','car_UA','car_VX','car_WN','car_YV','car_YX']]\n",
    "        s=s-mean\n",
    "        s=s/std\n",
    "        myy=np.ravel(sy.values)\n",
    "        myx=s.values.reshape(1,27)\n",
    "        myx=np.asarray(myx)\n",
    "        yield myx,myy"
   ]
  },
  {
   "cell_type": "code",
   "execution_count": 20,
   "metadata": {},
   "outputs": [],
   "source": [
    "def aug():   \n",
    "    while True:\n",
    "        s=data.sample()\n",
    "        sy=s[['ARR_DELAY']]\n",
    "        s=s[['day_of_week','day_of_month','month_of_year','PRCP', 'SNOW', 'TAVG','DISTANCE','DEST_NUM',\n",
    "        'DEP_DELAY','AIR_TIME',\n",
    "        'car_9E','car_AA','car_AS','car_B6','car_DL','car_EV','car_F9','car_HA','car_MQ',\n",
    "        'car_NK','car_OH','car_OO','car_UA','car_VX','car_WN','car_YV','car_YX']]\n",
    "        s=s-mean\n",
    "        s=s/std\n",
    "        #adding random noise to the generated sample\n",
    "        q=pd.DataFrame(np.random.random(s.shape),columns=s.columns,index=s.index)\n",
    "        s=s+std*q\n",
    "        myy=np.ravel(sy.values)\n",
    "        myx=s.values.reshape(1,27)\n",
    "        myx=np.asarray(myx)\n",
    "        yield myx,myy"
   ]
  },
  {
   "cell_type": "markdown",
   "metadata": {},
   "source": [
    "#### fig. 11\n",
    "Training the model on a generator"
   ]
  },
  {
   "cell_type": "code",
   "execution_count": 22,
   "metadata": {},
   "outputs": [
    {
     "name": "stdout",
     "output_type": "stream",
     "text": [
      "Epoch 1/7\n",
      "1000/1000 [==============================] - 16s 16ms/step - loss: 24.5343 - mean_squared_error: 2256.9979 - mean_absolute_error: 24.5343\n",
      "Epoch 2/7\n",
      "1000/1000 [==============================] - 15s 15ms/step - loss: 20.3471 - mean_squared_error: 1553.8316 - mean_absolute_error: 20.3471\n",
      "Epoch 3/7\n",
      "1000/1000 [==============================] - 15s 15ms/step - loss: 18.3202 - mean_squared_error: 1238.4650 - mean_absolute_error: 18.3202 2s - loss: 19.0134 - mean_squared_error\n",
      "Epoch 4/7\n",
      "1000/1000 [==============================] - 15s 15ms/step - loss: 14.4945 - mean_squared_error: 642.0106 - mean_absolute_error: 14.4945\n",
      "Epoch 5/7\n",
      "1000/1000 [==============================] - 15s 15ms/step - loss: 14.0375 - mean_squared_error: 444.6682 - mean_absolute_error: 14.0375 ETA: 1s - loss:\n",
      "Epoch 6/7\n",
      "1000/1000 [==============================] - 15s 15ms/step - loss: 13.6989 - mean_squared_error: 401.6833 - mean_absolute_error: 13.6989\n",
      "Epoch 7/7\n",
      "1000/1000 [==============================] - 15s 15ms/step - loss: 14.0188 - mean_squared_error: 564.5576 - mean_absolute_error: 14.0188\n",
      "57524/57524 [==============================] - 1s 15us/step\n"
     ]
    }
   ],
   "source": [
    "mygen=gen()\n",
    "history2=model.fit_generator(mygen,steps_per_epoch=1000,epochs=7)\n",
    "second=model.evaluate(X_test,y_test)"
   ]
  },
  {
   "cell_type": "markdown",
   "metadata": {},
   "source": [
    "#### fig. 12\n",
    "Training the model on the generator that augments the data by adding noise"
   ]
  },
  {
   "cell_type": "code",
   "execution_count": 23,
   "metadata": {},
   "outputs": [
    {
     "name": "stdout",
     "output_type": "stream",
     "text": [
      "Epoch 1/7\n",
      "1000/1000 [==============================] - 16s 16ms/step - loss: 36.7246 - mean_squared_error: 19378.7642 - mean_absolute_error: 36.72460s - loss: 37.4127 - mean_squared_error: 20038.6124 - mean_abs\n",
      "Epoch 2/7\n",
      "1000/1000 [==============================] - 16s 16ms/step - loss: 28.0978 - mean_squared_error: 2954.5936 - mean_absolute_error: 28.0978 3s - loss: 28.605\n",
      "Epoch 3/7\n",
      "1000/1000 [==============================] - 15s 15ms/step - loss: 26.1296 - mean_squared_error: 3315.4501 - mean_absolute_error: 26.1296 1s - loss: 25.5789 - mean_squared_error: 3214.4427 - mean_absolute_error: 25 - ETA: 1s - loss: 25.5468 - mean_squared_error: 3183.4229 - mean\n",
      "Epoch 4/7\n",
      "1000/1000 [==============================] - 16s 16ms/step - loss: 30.6205 - mean_squared_error: 5532.4367 - mean_absolute_error: 30.6205\n",
      "Epoch 5/7\n",
      "1000/1000 [==============================] - 16s 16ms/step - loss: 30.2691 - mean_squared_error: 3967.8477 - mean_absolute_error: 30.2691\n",
      "Epoch 6/7\n",
      "1000/1000 [==============================] - 16s 16ms/step - loss: 26.6989 - mean_squared_error: 3664.7317 - mean_absolute_error: 26.6989 5s - loss: 27.8240 - mean_squared_error - ETA: 2s - loss: 27.3910 - mean_squared_error: 4025.3242 - mean_absolute_error: 27 - ETA: 2s - loss: 27.3878 - mean_squared_e\n",
      "Epoch 7/7\n",
      "1000/1000 [==============================] - 16s 16ms/step - loss: 27.8758 - mean_squared_error: 3704.5509 - mean_absolute_error: 27.8758\n",
      "57524/57524 [==============================] - 1s 15us/step\n"
     ]
    }
   ],
   "source": [
    "myaug=aug()\n",
    "history3=model.fit_generator(myaug,steps_per_epoch=1000,epochs=7)\n",
    "third=model.evaluate(X_test,y_test)"
   ]
  }
 ],
 "metadata": {
  "kernelspec": {
   "display_name": "Python 3",
   "language": "python",
   "name": "python3"
  },
  "language_info": {
   "codemirror_mode": {
    "name": "ipython",
    "version": 3
   },
   "file_extension": ".py",
   "mimetype": "text/x-python",
   "name": "python",
   "nbconvert_exporter": "python",
   "pygments_lexer": "ipython3",
   "version": "3.6.5"
  }
 },
 "nbformat": 4,
 "nbformat_minor": 2
}
